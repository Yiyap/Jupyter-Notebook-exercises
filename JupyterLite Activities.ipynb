{
 "cells": [
  {
   "cell_type": "markdown",
   "metadata": {},
   "source": [
    "<center>\n",
    "    <img src=\"https://cf-courses-data.s3.us.cloud-object-storage.appdomain.cloud/IBMDeveloperSkillsNetwork-DS0105EN-SkillsNetwork/labs/Module2/images/SN_web_lightmode.png\" width=\"300\" alt=\"cognitiveclass.ai logo\">\n",
    "</center>\n"
   ]
  },
  {
   "cell_type": "markdown",
   "metadata": {},
   "source": [
    "#### Add your code below following the instructions given in the course\n"
   ]
  },
  {
   "cell_type": "markdown",
   "metadata": {},
   "source": [
    "<h1>JupyterLite Activities</h1>\n"
   ]
  },
  {
   "cell_type": "markdown",
   "metadata": {},
   "source": [
    "<h2>Introduction</h2>\n"
   ]
  },
  {
   "cell_type": "markdown",
   "metadata": {},
   "source": [
    "<h3>Data Science Languages</h3>\n",
    "<ul>\n",
    "    <li>Python</li>\n",
    "    <li>R</li>\n",
    "    <li>Julia</li>\n",
    "    <li>SQL</li>\n",
    "    <li>C++</li>\n",
    "    <li>Java</li>\n",
    "</ul>\n"
   ]
  },
  {
   "cell_type": "markdown",
   "metadata": {},
   "source": [
    "<h3>Libraries Used in Data Science</h3>\n",
    "<ul>\n",
    "    <li>Pandas</li>\n",
    "    <li>NumPy</li>\n",
    "    <li>Matplotlib</li>\n",
    "    <li>PySpark</li>\n",
    "    <li>TensorFlow</li>\n",
    "</ul>\n"
   ]
  },
  {
   "cell_type": "markdown",
   "metadata": {},
   "source": [
    "<h3>Data Science Tools</h3>\n",
    "\n",
    "| Development Environment | Data Analysis | Data Visualization |\n",
    "|-------------------------|---------------|------------------|\n",
    "| JupyterLab              | Pandas        | Matplotlib       |\n",
    "| RStudio                 | tidyverse     | ggplot2          |\n"
   ]
  },
  {
   "cell_type": "markdown",
   "metadata": {},
   "source": [
    "<h3>Examples of Arithmetic Operations</h3>\n",
    "\n",
    "- Power: 2 ** 3\n",
    "##### 8\n",
    "- Division: 20 / 4\n",
    "##### 5.0\n",
    "- Multiplication: 6 * 7\n",
    "##### 42\n"
   ]
  },
  {
   "cell_type": "code",
   "execution_count": 21,
   "metadata": {},
   "outputs": [
    {
     "name": "stdout",
     "output_type": "stream",
     "text": [
      "The result of the addition is 8 and the result of the multiplication is 12\n"
     ]
    }
   ],
   "source": [
    "# Examples of multiplication and addition of numbers\n",
    "\n",
    "a = 2\n",
    "b = 6\n",
    "\n",
    "sum_result = a + b\n",
    "multiplication_result = a * b\n",
    "\n",
    "print(f\"The result of the addition is {sum_result} and the result of the multiplication is {multiplication_result}\")\n",
    "\n"
   ]
  },
  {
   "cell_type": "code",
   "execution_count": 17,
   "metadata": {},
   "outputs": [
    {
     "name": "stdin",
     "output_type": "stream",
     "text": [
      "Write here the number of minutes:  200\n"
     ]
    },
    {
     "name": "stdout",
     "output_type": "stream",
     "text": [
      "200 minutes = 3 hours and 20 minutes\n"
     ]
    }
   ],
   "source": [
    "# Example of minutes to hours\n",
    "\n",
    "minutes = int(input(\"Write here the number of minutes: \"))\n",
    "\n",
    "hours = minutes // 60\n",
    "remaining_minutes = minutes % 60\n",
    "\n",
    "print(f\"{minutes} minutes = {hours} hours and {remaining_minutes} minutes\")"
   ]
  },
  {
   "cell_type": "code",
   "execution_count": 22,
   "metadata": {},
   "outputs": [
    {
     "name": "stdout",
     "output_type": "stream",
     "text": [
      "1. Learn to program efficiently\n",
      "2. Get certified from the IBM course\n",
      "3. Improve my resume\n",
      "4. Get a junior position\n"
     ]
    }
   ],
   "source": [
    "# List of goals\n",
    "goals = [\n",
    "    \"Learn to program efficiently\",\n",
    "    \"Get certified from the IBM course\",\n",
    "    \"Improve my resume\",\n",
    "    \"Get a junior position\"\n",
    "]\n",
    "\n",
    "for i, goal in enumerate(goals, 1):\n",
    "    print(f\"{i}. {goal}\")\n",
    "\n"
   ]
  },
  {
   "cell_type": "markdown",
   "metadata": {},
   "source": [
    "#### Author - > Javier León Soro"
   ]
  },
  {
   "cell_type": "code",
   "execution_count": null,
   "metadata": {},
   "outputs": [],
   "source": []
  }
 ],
 "metadata": {
  "kernelspec": {
   "display_name": "Python 3 (ipykernel)",
   "language": "python",
   "name": "python3"
  },
  "language_info": {
   "codemirror_mode": {
    "name": "ipython",
    "version": 3
   },
   "file_extension": ".py",
   "mimetype": "text/x-python",
   "name": "python",
   "nbconvert_exporter": "python",
   "pygments_lexer": "ipython3",
   "version": "3.12.8"
  }
 },
 "nbformat": 4,
 "nbformat_minor": 4
}
